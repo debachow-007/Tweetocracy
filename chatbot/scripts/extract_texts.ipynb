{
 "cells": [
  {
   "cell_type": "code",
   "execution_count": 1,
   "metadata": {},
   "outputs": [],
   "source": [
    "import pdfplumber\n",
    "import os\n",
    "import nltk"
   ]
  },
  {
   "cell_type": "code",
   "execution_count": 2,
   "metadata": {},
   "outputs": [],
   "source": [
    "def extract_text_from_pdf(pdf_path):\n",
    "    try:\n",
    "        text = \"\"\n",
    "        with pdfplumber.open(pdf_path) as pdf:\n",
    "            for page in pdf.pages:\n",
    "                text += page.extract_text()\n",
    "        return text\n",
    "    except pdfplumber.PDFException as e:\n",
    "        print(f\"Error extracting text from PDF: {e}\")\n",
    "        return None\n",
    "    except IOError as e:\n",
    "        print(f\"Error opening PDF file: {e}\")\n",
    "        return None\n",
    "\n",
    "def save_text_to_file(text, file_path):\n",
    "    try:\n",
    "        with open(file_path, \"w\", encoding=\"utf-8\") as file:\n",
    "            file.write(text)\n",
    "    except IOError as e:\n",
    "        print(f\"Error writing to file: {e}\")"
   ]
  },
  {
   "cell_type": "code",
   "execution_count": 3,
   "metadata": {},
   "outputs": [],
   "source": [
    "# Directory path\n",
    "directory = \"../knowledge_base\"\n",
    "\n",
    "# Iterate over files in the directory\n",
    "for filename in os.listdir(directory):\n",
    "    if filename.endswith(\".pdf\"):\n",
    "        # Path to the PDF file\n",
    "        pdf_path = os.path.join(directory, filename)\n",
    "        output_file_path = os.path.join(directory, f\"{os.path.splitext(filename)[0]}_manifesto.txt\")\n",
    "        if os.path.exists(output_file_path):\n",
    "            continue\n",
    "\n",
    "        # Extract text from the PDF using pdfplumber\n",
    "        manifesto_text = extract_text_from_pdf(pdf_path)\n",
    "\n",
    "        # Save the extracted text to a text file\n",
    "        save_text_to_file(manifesto_text, output_file_path)\n"
   ]
  }
 ],
 "metadata": {
  "kernelspec": {
   "display_name": "venv",
   "language": "python",
   "name": "python3"
  },
  "language_info": {
   "codemirror_mode": {
    "name": "ipython",
    "version": 3
   },
   "file_extension": ".py",
   "mimetype": "text/x-python",
   "name": "python",
   "nbconvert_exporter": "python",
   "pygments_lexer": "ipython3",
   "version": "3.11.7"
  }
 },
 "nbformat": 4,
 "nbformat_minor": 2
}
